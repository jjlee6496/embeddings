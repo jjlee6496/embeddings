{
 "cells": [
  {
   "cell_type": "code",
   "execution_count": null,
   "metadata": {},
   "outputs": [],
   "source": [
    "from langchain.text_splitter import RecursiveCharacterTextSplitter\n",
    "from pypdf import PdfReader\n",
    "from tqdm import tqdm\n"
   ]
  },
  {
   "cell_type": "code",
   "execution_count": 1,
   "metadata": {},
   "outputs": [
    {
     "name": "stderr",
     "output_type": "stream",
     "text": [
      "c:\\Users\\User\\miniconda3\\envs\\embed\\lib\\site-packages\\tqdm\\auto.py:21: TqdmWarning: IProgress not found. Please update jupyter and ipywidgets. See https://ipywidgets.readthedocs.io/en/stable/user_install.html\n",
      "  from .autonotebook import tqdm as notebook_tqdm\n",
      ".gitattributes: 100%|██████████| 1.18k/1.18k [00:00<?, ?B/s]\n",
      "1_Pooling/config.json: 100%|██████████| 190/190 [00:00<?, ?B/s] \n",
      "README.md: 100%|██████████| 4.44k/4.44k [00:00<?, ?B/s]\n",
      "config.json: 100%|██████████| 620/620 [00:00<?, ?B/s] \n",
      "config_sentence_transformers.json: 100%|██████████| 123/123 [00:00<?, ?B/s] \n",
      "(…)imilarity_evaluation_sts-dev_results.csv: 100%|██████████| 930/930 [00:00<?, ?B/s] \n",
      "pytorch_model.bin: 100%|██████████| 443M/443M [00:38<00:00, 11.4MB/s] \n",
      "sentence_bert_config.json: 100%|██████████| 53.0/53.0 [00:00<?, ?B/s]\n",
      "(…)milarity_evaluation_sts-test_results.csv: 100%|██████████| 301/301 [00:00<00:00, 305kB/s]\n",
      "special_tokens_map.json: 100%|██████████| 112/112 [00:00<?, ?B/s] \n",
      "tokenizer.json: 100%|██████████| 495k/495k [00:00<00:00, 823kB/s]\n",
      "tokenizer_config.json: 100%|██████████| 538/538 [00:00<?, ?B/s] \n",
      "vocab.txt: 100%|██████████| 248k/248k [00:00<00:00, 619kB/s]\n",
      "modules.json: 100%|██████████| 229/229 [00:00<00:00, 1.17MB/s]\n"
     ]
    }
   ],
   "source": [
    "import chromadb\n",
    "from chromadb.utils.embedding_functions import SentenceTransformerEmbeddingFunction\n",
    "\n",
    "embeddingfunc = SentenceTransformerEmbeddingFunction(\"jhgan/ko-sbert-sts\")\n"
   ]
  }
 ],
 "metadata": {
  "kernelspec": {
   "display_name": "embed",
   "language": "python",
   "name": "python3"
  },
  "language_info": {
   "codemirror_mode": {
    "name": "ipython",
    "version": 3
   },
   "file_extension": ".py",
   "mimetype": "text/x-python",
   "name": "python",
   "nbconvert_exporter": "python",
   "pygments_lexer": "ipython3",
   "version": "3.10.13"
  }
 },
 "nbformat": 4,
 "nbformat_minor": 2
}
